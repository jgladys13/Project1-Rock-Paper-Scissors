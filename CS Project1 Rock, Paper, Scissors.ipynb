{
 "cells": [
  {
   "cell_type": "markdown",
   "id": "d9adcb3c",
   "metadata": {},
   "source": [
    "# Programming Project1\n",
    "### Rock, Paper, Scissors\n",
    "***Joey Gladys***\n",
    "\n",
    "***Peyton Fosnough***\n",
    "\n",
    "***Fall 2021***"
   ]
  },
  {
   "cell_type": "code",
   "execution_count": 1,
   "id": "ebf78a26",
   "metadata": {},
   "outputs": [
    {
     "name": "stdout",
     "output_type": "stream",
     "text": [
      "Choose one (rock, paper, scissors): rock\n",
      "\n",
      "You chose rock, and the computer chose paper.\n",
      "\n",
      "Paper covers rock! You lose.\n",
      "Play again? (y/n): y\n",
      "Choose one (rock, paper, scissors): scissors\n",
      "\n",
      "You chose scissors, and the computer chose paper.\n",
      "\n",
      "Scissors cuts paper! You win!\n",
      "Play again? (y/n): n\n"
     ]
    }
   ],
   "source": [
    "import random\n",
    "\n",
    "#import random allows the computer to generate a random choice\n",
    "\n",
    " \n",
    "\n",
    "while True: \n",
    "\n",
    "    user_choice=input(\"Choose one (rock, paper, scissors): \")\n",
    "\n",
    "    possible_choices=[\"rock\",\"paper\",\"scissors\"]\n",
    "\n",
    "    computer_choice=random.choice(possible_choices)\n",
    "\n",
    "    print(f\"\\nYou chose {user_choice}, and the computer chose {computer_choice}.\\n\")\n",
    "\n",
    "#we use a while loop to allow the user to choose if they want to play again\n",
    "\n",
    "   \n",
    "\n",
    "    if user_choice == computer_choice:\n",
    "\n",
    "        print(f\"Both players selected {user_choice}. It's a tie!\")\n",
    "\n",
    "    elif user_choice == \"rock\":\n",
    "\n",
    "        if computer_choice == \"scissors\":\n",
    "\n",
    "            print(\"Rock smashes scissors! You win!\")\n",
    "\n",
    "        else:\n",
    "\n",
    "            print(\"Paper covers rock! You lose.\")\n",
    "\n",
    "    elif user_choice == \"paper\":\n",
    "\n",
    "        if computer_choice == \"rock\":\n",
    "\n",
    "            print(\"Paper covers rock! You win!\")\n",
    "\n",
    "        else:\n",
    "\n",
    "            print(\"Scissors cuts paper! You lose.\")\n",
    "\n",
    "    elif user_choice == \"scissors\":\n",
    "\n",
    "        if computer_choice == \"paper\":\n",
    "\n",
    "            print(\"Scissors cuts paper! You win!\")\n",
    "\n",
    "        else:\n",
    "\n",
    "            print(\"Rock smashes scissors! You lose.\")\n",
    "\n",
    "#the if/elif/else functions help determine who won and what to print\n",
    "\n",
    " \n",
    "\n",
    "    play_again=input(\"Play again? (y/n): \")\n",
    "\n",
    "    if play_again.lower()!= \"y\": #if the user types in anything but y for yes, the programming will break\n",
    "\n",
    "        break"
   ]
  },
  {
   "cell_type": "code",
   "execution_count": null,
   "id": "713f76cd",
   "metadata": {},
   "outputs": [],
   "source": []
  }
 ],
 "metadata": {
  "kernelspec": {
   "display_name": "Python 3",
   "language": "python",
   "name": "python3"
  },
  "language_info": {
   "codemirror_mode": {
    "name": "ipython",
    "version": 3
   },
   "file_extension": ".py",
   "mimetype": "text/x-python",
   "name": "python",
   "nbconvert_exporter": "python",
   "pygments_lexer": "ipython3",
   "version": "3.8.8"
  }
 },
 "nbformat": 4,
 "nbformat_minor": 5
}
